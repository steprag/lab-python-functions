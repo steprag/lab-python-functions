{
 "cells": [
  {
   "cell_type": "markdown",
   "id": "25d7736c-ba17-4aff-b6bb-66eba20fbf4e",
   "metadata": {},
   "source": [
    "# Lab | Functions"
   ]
  },
  {
   "cell_type": "markdown",
   "id": "0c581062-8967-4d93-b06e-62833222f930",
   "metadata": {
    "tags": []
   },
   "source": [
    "## Exercise: Managing Customer Orders with Functions\n",
    "\n",
    "In the previous exercise, you improved the code for managing customer orders by using loops and flow control. Now, let's take it a step further and refactor the code by introducing functions.\n",
    "\n",
    "Follow the steps below to complete the exercise:\n",
    "\n",
    "1. Define a function named `initialize_inventory` that takes `products` as a parameter. Inside the function, implement the code for initializing the inventory dictionary using a loop and user input.\n",
    "\n",
    "2. Define a function named `get_customer_orders` that takes no parameters. Inside the function, implement the code for prompting the user to enter the product names using a loop. The function should return the `customer_orders` set.\n",
    "\n",
    "3. Define a function named `update_inventory` that takes `customer_orders` and `inventory` as parameters. Inside the function, implement the code for updating the inventory dictionary based on the customer orders.\n",
    "\n",
    "4. Define a function named `calculate_order_statistics` that takes `customer_orders` and `products` as parameters. Inside the function, implement the code for calculating the order statistics (total products ordered, and percentage of unique products ordered). The function should return these values.\n",
    "\n",
    "5. Define a function named `print_order_statistics` that takes `order_statistics` as a parameter. Inside the function, implement the code for printing the order statistics.\n",
    "\n",
    "6. Define a function named `print_updated_inventory` that takes `inventory` as a parameter. Inside the function, implement the code for printing the updated inventory.\n",
    "\n",
    "7. Call the functions in the appropriate sequence to execute the program and manage customer orders.\n",
    "\n",
    "Hints for functions:\n",
    "\n",
    "- Consider the input parameters required for each function and their return values.\n",
    "- Utilize function parameters and return values to transfer data between functions.\n",
    "- Test your functions individually to ensure they work correctly.\n",
    "\n",
    "\n"
   ]
  },
  {
   "cell_type": "code",
   "execution_count": 58,
   "id": "5ef9e1fd",
   "metadata": {},
   "outputs": [
    {
     "name": "stdout",
     "output_type": "stream",
     "text": [
      "Enter quantity of t-shirt : 5\n",
      "Enter quantity of mug : 5\n",
      "Enter quantity of hat : 5\n",
      "Enter quantity of book : 5\n",
      "Enter quantity of keychain : 5\n"
     ]
    }
   ],
   "source": [
    "products=[\"t-shirt\", \"mug\", \"hat\", \"book\", \"keychain\"]\n",
    "\n",
    "def init_inventory(products) :\n",
    "    inventory = {}\n",
    "    for product in products :\n",
    "        qty = int(input(f\"Enter quantity of {product} : \")) \n",
    "        inventory[product]=qty \n",
    "    return inventory #Return the initialized inventory dictionary\n",
    "\n",
    "inventory = init_inventory(products) #call the function\n",
    "    "
   ]
  },
  {
   "cell_type": "code",
   "execution_count": 59,
   "id": "716127d4",
   "metadata": {},
   "outputs": [
    {
     "name": "stdout",
     "output_type": "stream",
     "text": [
      "What do u want to order ? :hat\n",
      "Do you want to add another product ? yes or no ? yes\n",
      "What do u want to order ? :mug\n",
      "Do you want to add another product ? yes or no ? yes\n",
      "What do u want to order ? :love\n",
      "The product is not in the inventory\n",
      "Do you want to add another product ? yes or no ? no\n",
      "{'mug', 'hat'}\n"
     ]
    }
   ],
   "source": [
    "\n",
    "def get_cust_ord(products):\n",
    "    cust_ord = set()\n",
    "    while True:\n",
    "        product_ord=input(\"What do u want to order ? :\")\n",
    "        if product_ord in products :\n",
    "            cust_ord.add(product_ord)\n",
    "        else :\n",
    "            print(\"The product is not in the inventory\")\n",
    "   \n",
    "        add_another=input(\"Do you want to add another product ? yes or no ? \")\n",
    "        if add_another != \"yes\":  \n",
    "            break\n",
    "    return cust_ord\n",
    "\n",
    "cust_ord = get_cust_ord(products)\n",
    "\n",
    "print(cust_ord)"
   ]
  },
  {
   "cell_type": "code",
   "execution_count": 60,
   "id": "a0767fa7",
   "metadata": {},
   "outputs": [
    {
     "name": "stdout",
     "output_type": "stream",
     "text": [
      "t-shirt : 5\n",
      "mug : 4\n",
      "hat : 4\n",
      "book : 5\n",
      "keychain : 5\n"
     ]
    }
   ],
   "source": [
    "def update_inventory (inventory, cust_ord):\n",
    "    for product in cust_ord : \n",
    "        inventory[product] -= 1\n",
    "         \n",
    "update_inventory(inventory,cust_ord)\n",
    "\n",
    "for product,qty in inventory.items() :\n",
    "    print(f\"{product} : {qty}\")\n"
   ]
  },
  {
   "cell_type": "code",
   "execution_count": 61,
   "id": "21894182",
   "metadata": {},
   "outputs": [
    {
     "data": {
      "text/plain": [
       "(2, 40.0)"
      ]
     },
     "execution_count": 61,
     "metadata": {},
     "output_type": "execute_result"
    }
   ],
   "source": [
    "def calcul_ord_stat(cust_ord,products):\n",
    "    total_cust_ord = len(cust_ord)\n",
    "    percent_ord = total_cust_ord / len(inventory)*100\n",
    "    return total_cust_ord, percent_ord\n",
    "\n",
    "calcul_ord_stat(cust_ord,products)"
   ]
  },
  {
   "cell_type": "code",
   "execution_count": 62,
   "id": "68791d47",
   "metadata": {},
   "outputs": [
    {
     "name": "stdout",
     "output_type": "stream",
     "text": [
      "Orders stats :\n",
      "2\n",
      "40.0 %\n"
     ]
    }
   ],
   "source": [
    "def print_ord_stat(ord_stat):\n",
    "    print (\"Orders stats :\")\n",
    "    print (ord_stat[0])\n",
    "    print(ord_stat[1],\"%\")\n",
    "\n",
    "print_ord_stat(ord_stat)\n",
    "\n",
    "\n",
    "# Question à poser : pourquoi pas besoin de :\n",
    "# <ord_stat = calcul_ord_stat(cust_ord, products)>\n",
    "# où ai-je défini ord_stat ? "
   ]
  },
  {
   "cell_type": "code",
   "execution_count": 70,
   "id": "6ff2a189",
   "metadata": {},
   "outputs": [
    {
     "name": "stdout",
     "output_type": "stream",
     "text": [
      "update inventory :\n",
      "t-shirt: 5\n",
      "mug: 4\n",
      "hat: 4\n",
      "book: 5\n",
      "keychain: 5\n"
     ]
    }
   ],
   "source": [
    "def print_updated_inventory(inventory):\n",
    "    print(\"update inventory :\")\n",
    "    for product, qty in inventory.items():\n",
    "        print(f\"{product}: {qty}\")\n",
    "\n",
    "print_updated_inventory(inventory)"
   ]
  },
  {
   "cell_type": "code",
   "execution_count": null,
   "id": "2eb08a0a",
   "metadata": {},
   "outputs": [],
   "source": []
  },
  {
   "cell_type": "code",
   "execution_count": null,
   "id": "bfde1b67",
   "metadata": {},
   "outputs": [],
   "source": []
  }
 ],
 "metadata": {
  "kernelspec": {
   "display_name": "Python 3 (ipykernel)",
   "language": "python",
   "name": "python3"
  },
  "language_info": {
   "codemirror_mode": {
    "name": "ipython",
    "version": 3
   },
   "file_extension": ".py",
   "mimetype": "text/x-python",
   "name": "python",
   "nbconvert_exporter": "python",
   "pygments_lexer": "ipython3",
   "version": "3.11.5"
  }
 },
 "nbformat": 4,
 "nbformat_minor": 5
}
